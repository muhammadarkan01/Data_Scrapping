{
 "cells": [
  {
   "cell_type": "markdown",
   "metadata": {},
   "source": [
    "### **Handling Dynamic Content**\n",
    "Many modern websites use JavaScript to dynamically load content after the initial page load (e.g., using frameworks like React or Angular). This means the content you need to scrape might not be present in the raw HTML source when the page first loads.\n",
    "\n",
    "### Selenium\n",
    "Selenium stands out from other scraping tools because it interacts with a real browser. This makes it particularly useful for websites that rely heavily on JavaScript, AJAX, or dynamic content loading. Selenium can handle:\n",
    "- Pages that load content dynamically with JavaScript.\n",
    "- Interaction with forms, buttons, and scroll events.\n",
    "- Real browser interactions"
   ]
  },
  {
   "cell_type": "code",
   "execution_count": null,
   "metadata": {},
   "outputs": [],
   "source": [
    "from selenium import webdriver\n",
    "bookstoscrape_url = \"https://books.toscrape.com/\""
   ]
  },
  {
   "cell_type": "code",
   "execution_count": null,
   "metadata": {},
   "outputs": [],
   "source": [
    "# TODO: Do 5 minute of web searching with 'selenium python' as the keyword and state out what you found in short sentence."
   ]
  },
  {
   "cell_type": "markdown",
   "metadata": {},
   "source": [
    "### Basic Usage of Selenium"
   ]
  },
  {
   "cell_type": "code",
   "execution_count": null,
   "metadata": {},
   "outputs": [],
   "source": [
    "\"\"\"\n",
    "Objective: Creating a browser instance\n",
    "\"\"\"\n",
    "firefox_driver = webdriver.Firefox()"
   ]
  },
  {
   "cell_type": "code",
   "execution_count": null,
   "metadata": {},
   "outputs": [],
   "source": [
    "\"\"\" \n",
    "Objective: Opening bookstoscrape_url\n",
    "\"\"\"\n",
    "firefox_driver.get(bookstoscrape_url)"
   ]
  },
  {
   "cell_type": "code",
   "execution_count": null,
   "metadata": {},
   "outputs": [],
   "source": [
    "\"\"\" \n",
    "Objective: Save the page content to html variable then use Beautifulsoup to extract the data\n",
    "\"\"\"\n",
    "html = firefox_driver.page_source\n"
   ]
  },
  {
   "cell_type": "code",
   "execution_count": null,
   "metadata": {},
   "outputs": [],
   "source": [
    "\"\"\" \n",
    "Objective: Close the browser instance\n",
    "\"\"\"\n",
    "firefox_driver.quit()"
   ]
  },
  {
   "cell_type": "markdown",
   "metadata": {},
   "source": [
    "### Browser Instance Variance"
   ]
  },
  {
   "cell_type": "code",
   "execution_count": null,
   "metadata": {},
   "outputs": [],
   "source": [
    "\"\"\" \n",
    "Objective: Compare the difference between Firefox webdriver and Chrome webdriver\n",
    "\"\"\"\n",
    "# TODO: Create a Chrome browser instance\n",
    "# TODO: Create a Firefox browser instance\n",
    "# TODO: Analyze the difference between firefox and chrome browser instance"
   ]
  },
  {
   "cell_type": "code",
   "execution_count": null,
   "metadata": {},
   "outputs": [],
   "source": [
    "\"\"\" \n",
    "Objective: Change the window size in Chrome webdriver\n",
    "\n",
    "Set the window size to a particular size x and y --> driver.set_window_size(x, y)\n",
    "Set the window size to max --> driver.maximize_window()\n",
    "Get the current window size --> driver.get_window_size()\n",
    "\"\"\"\n",
    "# TODO: Change the window size of the firefox browser instance to 200 and 400\n",
    "# TODO: Print the current window size of the chrome browser instance\n",
    "# TODO: Change the window size of the chrome browser instance to full screen"
   ]
  },
  {
   "cell_type": "code",
   "execution_count": null,
   "metadata": {},
   "outputs": [],
   "source": [
    "# TODO: Close all the browser instance using quit method"
   ]
  },
  {
   "cell_type": "code",
   "execution_count": null,
   "metadata": {},
   "outputs": [],
   "source": [
    "\"\"\" \n",
    "Objective: Applying browser variance using Options\n",
    "\"\"\"\n",
    "# TODO: Execute this cell before continue\n",
    "# TODO: Choose between these 2 method to add options into webdriver instance\n",
    "\n",
    "## Method 1:\n",
    "# from selenium.webdriver.chrome.options import Options\n",
    "# options = Options()\n",
    "\n",
    "## Method 2:\n",
    "# options = webdriver.ChromeOptions()"
   ]
  },
  {
   "cell_type": "code",
   "execution_count": null,
   "metadata": {},
   "outputs": [],
   "source": [
    "\"\"\" \n",
    "Objective: Change the windows to full size with Options\n",
    "Options is a way to create a browser instance with customization.\n",
    "\n",
    "Example:\n",
    "## Create the options object from one of two previous cell mentioned\n",
    "# options = Options()\n",
    "\n",
    "## Add customization as argument\n",
    "options.add_argument(\"--start-maximized\")\n",
    "\n",
    "## You can add multiple argument after the other\n",
    "options.add_argument(\"argument 1\")\n",
    "options.add_argument(\"argument 2\")\n",
    "options.add_experimental_option(\"experimental argument\")\n",
    "\n",
    "## Add options object to webdriver instance\n",
    "driver = webdriver.Chrome(options=options)\n",
    "\"\"\"\n",
    "# TODO: Create options object\n",
    "# TODO: Add argument to set the window size to max\n",
    "# TODO: Create a browser instance with options"
   ]
  },
  {
   "cell_type": "code",
   "execution_count": null,
   "metadata": {},
   "outputs": [],
   "source": [
    "\"\"\" \n",
    "Objective: Run a headless browser\n",
    "\"\"\"\n",
    "# TODO: Create options object\n",
    "# TODO: Add argument \"--headless\" to the options\n",
    "# TODO: Create a browser instance with options\n",
    "# TODO: Open bookstoscrape_url using get method\n",
    "# TODO: print the page title using driver.title\n",
    "# TODO: Close the browser instance using quit method\n"
   ]
  },
  {
   "cell_type": "code",
   "execution_count": null,
   "metadata": {},
   "outputs": [],
   "source": [
    "\"\"\" \n",
    "Objective: Opening a page without loading the image\n",
    "\"\"\"\n",
    "# TODO: Create options object\n",
    "# TODO: Add argument \"--blink-settings=imagesEnabled=false\" to the options\n",
    "# TODO: Create a browser instance with options\n",
    "# TODO: Open bookstoscrape_url using get method"
   ]
  },
  {
   "cell_type": "code",
   "execution_count": null,
   "metadata": {},
   "outputs": [],
   "source": [
    "\"\"\" \n",
    "Objective: Explore any other options available\n",
    "options.add_argument(\"--disable-gpu\")  # Disable GPU rendering\n",
    "options.add_argument(\"--no-sandbox\")  # Disable sandbox for Docker\n",
    "options.add_argument(\"--disable-dev-shm-usage\")  # Prevent shared memory issues\n",
    "options.add_argument(\"--disable-extensions\")  # Disable extensions\n",
    "options.add_argument(\"--disable-infobars\")  # Remove info bars\n",
    "\"\"\"\n",
    "# TODO: Explore the official documentation from https://www.selenium.dev/documentation/webdriver/browsers/chrome/"
   ]
  },
  {
   "cell_type": "code",
   "execution_count": null,
   "metadata": {},
   "outputs": [],
   "source": [
    "\"\"\" \n",
    "Objective: Understand what information from a webdriver instance we can get\n",
    "\"\"\"\n",
    "# TODO: Create a new browser instance with any options you like\n",
    "# TODO: Open any website from your own preference\n",
    "# TODO: Print the current page title by using driver.title\n",
    "# TODO: Print the current url by using driver.current_url\n",
    "# TODO: Get the HTML content by using driver.page_source\n",
    "# TODO: Compare the HTML content from selenium with HTML content from requests then provide your insight"
   ]
  },
  {
   "cell_type": "markdown",
   "metadata": {},
   "source": [
    "### **Reflection**\n",
    "Which is faster for retrieving HTML content: sending an HTTP request directly using the requests library or creating a browser instance with Selenium?\n",
    "\n",
    "(answer here)"
   ]
  },
  {
   "cell_type": "markdown",
   "metadata": {},
   "source": [
    "### **Exploration**\n",
    "Explore what can be done manually in a real browser and what can be achieved using Selenium."
   ]
  }
 ],
 "metadata": {
  "kernelspec": {
   "display_name": "course_assignments-W1NPJChe",
   "language": "python",
   "name": "python3"
  },
  "language_info": {
   "codemirror_mode": {
    "name": "ipython",
    "version": 3
   },
   "file_extension": ".py",
   "mimetype": "text/x-python",
   "name": "python",
   "nbconvert_exporter": "python",
   "pygments_lexer": "ipython3",
   "version": "3.10.12"
  }
 },
 "nbformat": 4,
 "nbformat_minor": 2
}
