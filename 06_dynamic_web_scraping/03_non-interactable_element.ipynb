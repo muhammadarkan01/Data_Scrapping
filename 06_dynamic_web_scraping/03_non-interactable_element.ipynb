{
 "cells": [
  {
   "cell_type": "markdown",
   "metadata": {},
   "source": [
    "### **Non-Interactable Element**\n",
    "When automating web tasks or scraping data with Selenium, elements on a webpage may not be immediately available due to delays in loading, JavaScript execution, or dynamic content rendering."
   ]
  },
  {
   "cell_type": "code",
   "execution_count": null,
   "metadata": {},
   "outputs": [],
   "source": [
    "\"\"\" \n",
    "Objective: Practice selenium setup from scratch\n",
    "\"\"\"\n",
    "# TODO: Start by importing necessary modules: webdriver, options, by and keys (keys and by comes from webdriver.common)\n",
    "# TODO: Create options object with --start-maximized argument\n",
    "# TODO: Create the browser instance\n",
    "# TODO: Open the https://demoqa.com/webtables using get"
   ]
  },
  {
   "cell_type": "code",
   "execution_count": null,
   "metadata": {},
   "outputs": [],
   "source": [
    "# TODO: Find and click element button to trigger form input\n",
    "# TODO: Is there any error? Analyze the problem!"
   ]
  },
  {
   "cell_type": "markdown",
   "metadata": {},
   "source": [
    "### Scrolling on the page"
   ]
  },
  {
   "cell_type": "code",
   "execution_count": null,
   "metadata": {},
   "outputs": [],
   "source": [
    "\"\"\" \n",
    "Objective: Execute javascript code to trigger scrolling in web browser\n",
    "\"\"\"\n",
    "# TODO: Execute the script \"window.scrollTo(0, document.body.scrollHeight)\" using driver.execute_script(\"script here\")\n",
    "# TODO: See the browser, is the script executed?"
   ]
  },
  {
   "cell_type": "code",
   "execution_count": null,
   "metadata": {},
   "outputs": [],
   "source": [
    "\"\"\" \n",
    "Objective: Scroll down to coordinate (0, 200)\n",
    "\"\"\"\n",
    "# TODO: Execute the script \"window.scrollTo(0, 200)\" using driver.execute_script(\"script here\")\n",
    "# TODO: See the browser, is the script executed?"
   ]
  },
  {
   "cell_type": "code",
   "execution_count": null,
   "metadata": {},
   "outputs": [],
   "source": [
    "\"\"\" \n",
    "Objective: Scroll using Keys\n",
    "\"\"\"\n",
    "# TODO: Find body element\n",
    "# TODO: Use element.send_keys(Keys.PAGE_DOWN) to trigger page down button on keyboard\n",
    "# TODO: Custom the keys using another key, arrow key for example"
   ]
  },
  {
   "cell_type": "code",
   "execution_count": null,
   "metadata": {},
   "outputs": [],
   "source": [
    "\"\"\" \n",
    "Objective: Scroll directly to the element\n",
    "\"\"\"\n",
    "# TODO: Find any element you like\n",
    "# TODO: Add driver.execute_script(\"arguments[0].scrollIntoView()\", element)"
   ]
  },
  {
   "cell_type": "code",
   "execution_count": 1,
   "metadata": {},
   "outputs": [
    {
     "data": {
      "text/plain": [
       "'\\nObjective: Finish form submition for https://demoqa.com/webtables\\n'"
      ]
     },
     "execution_count": 1,
     "metadata": {},
     "output_type": "execute_result"
    }
   ],
   "source": [
    "\"\"\"\n",
    "Objective: Finish form submition for https://demoqa.com/webtables\n",
    "\"\"\"\n",
    "# TODO: Open https://demoqa.com/webtables using get\n",
    "# TODO: Fill the element with any value you like\n",
    "# TODO: Click submit\n",
    "# TODO: Take a screenshot"
   ]
  },
  {
   "cell_type": "markdown",
   "metadata": {},
   "source": [
    "### Element inside iframe"
   ]
  },
  {
   "cell_type": "code",
   "execution_count": null,
   "metadata": {},
   "outputs": [],
   "source": [
    "\"\"\" \n",
    "Objective: Practice selenium setup from scratch\n",
    "\"\"\"\n",
    "# TODO: Start by importing necessary modules: webdriver, options and by\n",
    "# TODO: Create options object with --start-maximized argument\n",
    "# TODO: Create the browser instance\n",
    "# TODO: Open the https://demoqa.com/frames using get"
   ]
  },
  {
   "cell_type": "code",
   "execution_count": null,
   "metadata": {},
   "outputs": [],
   "source": [
    "\"\"\" \n",
    "Objective: Find element inside frame\n",
    "\"\"\"\n",
    "# TODO: Find element that have value \"This is a sample page\" on the page\n",
    "# TODO: Analyze the result, is the element found?\n"
   ]
  },
  {
   "cell_type": "code",
   "execution_count": null,
   "metadata": {},
   "outputs": [],
   "source": [
    "\"\"\" \n",
    "Objective: Switching to frame\n",
    "\"\"\"\n",
    "# TODO: Find frame element\n",
    "# TODO: Switch to frame using driver.switch_to.frame(frame_element)\n",
    "# TODO: Find our target element and print the text"
   ]
  },
  {
   "cell_type": "code",
   "execution_count": null,
   "metadata": {},
   "outputs": [],
   "source": [
    "driver.quit()"
   ]
  },
  {
   "cell_type": "markdown",
   "metadata": {},
   "source": [
    "### Waiting strategy"
   ]
  },
  {
   "cell_type": "code",
   "execution_count": null,
   "metadata": {},
   "outputs": [],
   "source": [
    "\"\"\" \n",
    "Objective: Practice selenium setup from scratch\n",
    "\"\"\"\n",
    "# TODO: Start by importing necessary modules: webdriver, options, by, webdriverwait and expected_conditions\n",
    "# TODO: Create options object with --start-maximized argument\n",
    "# TODO: Create the browser instance"
   ]
  },
  {
   "cell_type": "code",
   "execution_count": null,
   "metadata": {},
   "outputs": [],
   "source": [
    "\"\"\" \n",
    "Objective: Using implicit wait\n",
    "Once implicit wait set, it applies timeout to \n",
    "all find_element and find_elements and throws error if not found.\n",
    "\"\"\"\n",
    "# TODO: Set the wait time implicitly using driver.implicitly_wait(time)\n",
    "# TODO: Opening any page you like\n",
    "# TODO: Find a non-existing element, you can use any element that actually not exist in the page\n",
    "# TODO: Execute the code and see if the selenium is waiting or not"
   ]
  },
  {
   "cell_type": "code",
   "execution_count": null,
   "metadata": {},
   "outputs": [],
   "source": [
    "\"\"\" \n",
    "Objective: Handling error NoSuchElementException\n",
    "\"\"\"\n",
    "# TODO: Instead of throwing an error, handle the exception like a pro!"
   ]
  },
  {
   "cell_type": "code",
   "execution_count": null,
   "metadata": {},
   "outputs": [],
   "source": [
    "\"\"\" \n",
    "Objective: Implement explicit wait\n",
    "\"\"\"\n",
    "wait = WebDriverWait(driver, 10)\n",
    "element = wait.until(EC.element_to_be_clickable((By.ID, \"visibleAfter\")))"
   ]
  },
  {
   "cell_type": "code",
   "execution_count": null,
   "metadata": {},
   "outputs": [],
   "source": [
    "\"\"\"\n",
    "Common expected_conditions methods\n",
    "WebDriverWait(driver, 10).until(EC.presence_of_element_located((By.ID, \"example-id\")))\n",
    "WebDriverWait(driver, 10).until(EC.visibility_of_element_located((By.CSS_SELECTOR, \".example-class\")))\n",
    "WebDriverWait(driver, 10).until(EC.element_to_be_clickable((By.XPATH, \"//button[@id='submit']\")))\n",
    "WebDriverWait(driver, 10).until(EC.text_to_be_present_in_element((By.TAG_NAME, \"h1\"), \"Welcome\"))\n",
    "\"\"\"\n"
   ]
  },
  {
   "cell_type": "markdown",
   "metadata": {},
   "source": [
    "### **Reflection**\n",
    "How is your experience using Selenium so far?\n",
    "\n",
    "(answer here)"
   ]
  },
  {
   "cell_type": "markdown",
   "metadata": {},
   "source": [
    "### **Exploration**\n",
    "There are a lot of Selenium alternative, you can try:\n",
    "- Playwright\n",
    "- Pyppetter\n",
    "- etc"
   ]
  },
  {
   "cell_type": "markdown",
   "metadata": {},
   "source": []
  }
 ],
 "metadata": {
  "kernelspec": {
   "display_name": "course_assignments-W1NPJChe",
   "language": "python",
   "name": "python3"
  },
  "language_info": {
   "codemirror_mode": {
    "name": "ipython",
    "version": 3
   },
   "file_extension": ".py",
   "mimetype": "text/x-python",
   "name": "python",
   "nbconvert_exporter": "python",
   "pygments_lexer": "ipython3",
   "version": "3.10.12"
  }
 },
 "nbformat": 4,
 "nbformat_minor": 2
}
